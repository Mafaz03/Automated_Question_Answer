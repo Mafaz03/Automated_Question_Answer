{
 "cells": [
  {
   "cell_type": "code",
   "execution_count": 1,
   "metadata": {},
   "outputs": [
    {
     "name": "stderr",
     "output_type": "stream",
     "text": [
      "[nltk_data] Downloading package punkt to\n",
      "[nltk_data]     /Users/mohamedmafaz/nltk_data...\n",
      "[nltk_data]   Package punkt is already up-to-date!\n"
     ]
    }
   ],
   "source": [
    "from learn_more import learn_more\n",
    "from mcq import generate_mcq_question\n",
    "from ciriculam_based_QA import ciriculam_based_QA\n",
    "from self_asses import request_plan"
   ]
  },
  {
   "cell_type": "code",
   "execution_count": 2,
   "metadata": {},
   "outputs": [
    {
     "name": "stdout",
     "output_type": "stream",
     "text": [
      "1. How can the principles of differential equations and linear algebra be effectively combined to model and optimize complex engineering systems in the context of a B.Tech. program?\n",
      "2. How can the principles of encryption and decryption be effectively applied within the realm of Information Technolo...\n"
     ]
    }
   ],
   "source": [
    "ciriculam_based_QA('/Users/mohamedmafaz/Automated_Question_Answer/Phase1/sample.pdf',\n",
    "                   'math', 10, 100, \"filename\", \"pdf\")\n"
   ]
  },
  {
   "cell_type": "code",
   "execution_count": 3,
   "metadata": {},
   "outputs": [
    {
     "data": {
      "text/plain": [
       "'What is the value of the mathematical constant pi (π) correct to 3 decimal places?\\na) 3.141\\nb) 3.142\\nc) 3.140\\nd) 3.139\\n\\na) 3.141'"
      ]
     },
     "execution_count": 3,
     "metadata": {},
     "output_type": "execute_result"
    }
   ],
   "source": [
    "generate_mcq_question('math', 100, '')"
   ]
  },
  {
   "cell_type": "code",
   "execution_count": 4,
   "metadata": {},
   "outputs": [
    {
     "data": {
      "text/plain": [
       "'\\nThe Paris is best described as capital city of France. \\n\\nFor more detailed information, you can visit the Wikipedia page: https://en.wikipedia.org/wiki/Paris.\\n\\n'"
      ]
     },
     "execution_count": 4,
     "metadata": {},
     "output_type": "execute_result"
    }
   ],
   "source": [
    "learn_more('paris')"
   ]
  },
  {
   "cell_type": "code",
   "execution_count": 2,
   "metadata": {},
   "outputs": [
    {
     "name": "stdout",
     "output_type": "stream",
     "text": [
      "Document has been saved as 'sample_study_plan.pdf'\n",
      "Learning plan document has been created as a PDF.\n"
     ]
    }
   ],
   "source": [
    "request_plan('/Users/mohamedmafaz/Automated_Question_Answer/Phase1/sample.pdf',\n",
    "             \"sample_study_plan\")"
   ]
  }
 ],
 "metadata": {
  "kernelspec": {
   "display_name": "Python 3",
   "language": "python",
   "name": "python3"
  },
  "language_info": {
   "codemirror_mode": {
    "name": "ipython",
    "version": 3
   },
   "file_extension": ".py",
   "mimetype": "text/x-python",
   "name": "python",
   "nbconvert_exporter": "python",
   "pygments_lexer": "ipython3",
   "version": "3.11.5"
  }
 },
 "nbformat": 4,
 "nbformat_minor": 2
}
