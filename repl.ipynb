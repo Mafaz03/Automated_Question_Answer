{
 "cells": [
  {
   "cell_type": "code",
   "execution_count": 160,
   "metadata": {},
   "outputs": [
    {
     "name": "stdout",
     "output_type": "stream",
     "text": [
      "\u001b[93mHello yat\u001b[91mwow\n"
     ]
    }
   ],
   "source": [
    "class bcolors:\n",
    "    CORRECT = '\\033[93m'\n",
    "    FAIL = '\\033[91m'\n",
    "    NOTATTENDED = '\\033[94m'\n",
    "    RESET = \"\\033[0m\"\n",
    "\n",
    "print(bcolors.CORRECT+\"Hello \"+ \"yat\" +bcolors.FAIL+\"wow\")"
   ]
  },
  {
   "cell_type": "code",
   "execution_count": 161,
   "metadata": {},
   "outputs": [
    {
     "name": "stdout",
     "output_type": "stream",
     "text": [
      "+-----------+-----------+-----------+-----------+-----------+-----------+-----------+-----------+-----------+-----------+\n",
      "|  \u001b[94m\u001b[93mLevel: 1\u001b[0m\u001b[0m |  \u001b[94m\u001b[93mLevel: 2\u001b[0m\u001b[0m |  \u001b[94m\u001b[91mLevel: 3\u001b[0m\u001b[0m |  \u001b[94m\u001b[91mLevel: 4\u001b[0m\u001b[0m |  \u001b[94mLevel: 5\u001b[0m |  \u001b[94mLevel: 6\u001b[0m |  \u001b[94mLevel: 7\u001b[0m |  \u001b[94mLevel: 8\u001b[0m |  \u001b[94mLevel: 9\u001b[0m | \u001b[94mLevel: 10\u001b[0m |\n",
      "+-----------+-----------+-----------+-----------+-----------+-----------+-----------+-----------+-----------+-----------+\n",
      "| \u001b[94mLevel: 11\u001b[0m | \u001b[94mLevel: 12\u001b[0m | \u001b[94mLevel: 13\u001b[0m | \u001b[94mLevel: 14\u001b[0m | \u001b[94mLevel: 15\u001b[0m | \u001b[94mLevel: 16\u001b[0m | \u001b[94mLevel: 17\u001b[0m | \u001b[94mLevel: 18\u001b[0m | \u001b[94mLevel: 19\u001b[0m | \u001b[94m\u001b[93mLevel: 20\u001b[0m\u001b[0m |\n",
      "+-----------+-----------+-----------+-----------+-----------+-----------+-----------+-----------+-----------+-----------+\n",
      "| \u001b[94mLevel: 21\u001b[0m | \u001b[94mLevel: 22\u001b[0m | \u001b[94mLevel: 23\u001b[0m | \u001b[94mLevel: 24\u001b[0m | \u001b[94mLevel: 25\u001b[0m | \u001b[94mLevel: 26\u001b[0m | \u001b[94mLevel: 27\u001b[0m | \u001b[94mLevel: 28\u001b[0m | \u001b[94mLevel: 29\u001b[0m | \u001b[94mLevel: 30\u001b[0m |\n",
      "+-----------+-----------+-----------+-----------+-----------+-----------+-----------+-----------+-----------+-----------+\n",
      "| \u001b[94mLevel: 31\u001b[0m | \u001b[94mLevel: 32\u001b[0m | \u001b[94mLevel: 33\u001b[0m | \u001b[94mLevel: 34\u001b[0m | \u001b[94mLevel: 35\u001b[0m | \u001b[94mLevel: 36\u001b[0m | \u001b[94mLevel: 37\u001b[0m | \u001b[94mLevel: 38\u001b[0m | \u001b[94mLevel: 39\u001b[0m | \u001b[94mLevel: 40\u001b[0m |\n",
      "+-----------+-----------+-----------+-----------+-----------+-----------+-----------+-----------+-----------+-----------+\n"
     ]
    }
   ],
   "source": [
    "class ptable:\n",
    "    def __init__ (self, rows=None):\n",
    "        self.horizontal_str = \"\"\n",
    "        if rows != None: \n",
    "            self.rows = [list(map(str, r)) for r in rows]\n",
    "            flattened_row = [item for sublist in self.rows for item in sublist]\n",
    "            self.max_col_width = max(map(len, flattened_row))\n",
    "\n",
    "    def make_matrix(self, to, skip, prefix = \"\", correct = [], failed = [], not_attended = []):\n",
    "        levels = []\n",
    "        for i in range(1, to+1, skip):\n",
    "            if prefix != \"\":\n",
    "                levels.append(prefix+str(i) for i in list(range(i,i+skip)))\n",
    "            else: levels.append(i for i in list(range(i,i+skip)))\n",
    "        pt = ptable(levels)\n",
    "        pt.make_row()\n",
    "\n",
    "        for level in not_attended:\n",
    "            pt.horizontal_str = pt.horizontal_str.replace(f\"Level: {level}\", bcolors.NOTATTENDED+f\"Level: {level}\"+bcolors.RESET, 1)\n",
    "        for level in correct:\n",
    "            pt.horizontal_str = pt.horizontal_str.replace(f\"Level: {level}\", bcolors.CORRECT+f\"Level: {level}\"+bcolors.RESET, 1)\n",
    "        for level in failed:\n",
    "            pt.horizontal_str = pt.horizontal_str.replace(f\"Level: {level}\", bcolors.FAIL+f\"Level: {level}\"+bcolors.RESET, 1)\n",
    "        \n",
    "\n",
    "        print(pt.horizontal_str)\n",
    "\n",
    "    def make_row(self):\n",
    "        for row in self.rows:\n",
    "            if len(row) == 0: raise RuntimeError(\"Make sure row is not empty\")\n",
    "            if self.horizontal_str == \"\": self.horizontal()\n",
    "            \n",
    "            self.horizontal_str += \"\\n\"\n",
    "            for idx, ele in enumerate(row):\n",
    "                self.horizontal_str += \"|\"\n",
    "                self.horizontal_str += ele.center(self.width)\n",
    "                if idx == len(row)-1: self.horizontal_str += \"|\"\n",
    "            self.horizontal_str += \"\\n\"\n",
    "            self.horizontal()\n",
    "\n",
    "    def horizontal(self):\n",
    "        self.width = self.max_col_width+2\n",
    "        for idx in range(len(self.rows[0])):\n",
    "            self.horizontal_str += \"+\" + \"-\"*self.width\n",
    "            if idx == len(self.rows[0])-1: self.horizontal_str += \"+\"\n",
    "\n",
    "ques_count = 40\n",
    "skip_val = 10\n",
    "pt = ptable()\n",
    "correct = [1, 2, 20, 99]\n",
    "failed=[3,4]\n",
    "not_attended = list(range(ques_count+1))\n",
    "mat = pt.make_matrix(ques_count, skip_val, prefix=\"Level: \", correct=correct, failed=failed, not_attended=not_attended)\n",
    "\n",
    "    \n",
    "# rows = [[\"Rome\", \"Italy\", \"Greece\", \"manhattan\"], [\"home\", \"one\", \"two\", \"three\"], [\"pizza\", \"olives\"]]\n",
    "# pt = ptable(rows)\n",
    "# pt.make_row()\n",
    "\n",
    "# print(pt.horizontal_str)\n",
    "    "
   ]
  },
  {
   "cell_type": "code",
   "execution_count": 175,
   "metadata": {},
   "outputs": [
    {
     "data": {
      "text/plain": [
       "(6, 6)"
      ]
     },
     "execution_count": 175,
     "metadata": {},
     "output_type": "execute_result"
    }
   ],
   "source": [
    "import random\n",
    "a = random.randint(5,10)\n",
    "b = random.randint(6,10)\n",
    "a,b"
   ]
  },
  {
   "cell_type": "code",
   "execution_count": 176,
   "metadata": {},
   "outputs": [
    {
     "name": "stdout",
     "output_type": "stream",
     "text": [
      "+-----------+-----------+-----------+-----------+-----------+-----------+-----------+-----------+-----------+-----------+\n",
      "|  \u001b[94m\u001b[93mLevel: 1\u001b[0m\u001b[0m |  \u001b[94mLevel: 2\u001b[0m |  \u001b[94mLevel: 3\u001b[0m |  \u001b[94mLevel: 4\u001b[0m |  \u001b[94mLevel: 5\u001b[0m |  \u001b[94mLevel: 6\u001b[0m |  \u001b[94mLevel: 7\u001b[0m |  \u001b[94mLevel: 8\u001b[0m |  \u001b[94mLevel: 9\u001b[0m | \u001b[94mLevel: 10\u001b[0m |\n",
      "+-----------+-----------+-----------+-----------+-----------+-----------+-----------+-----------+-----------+-----------+\n",
      "+-----------+-----------+-----------+-----------+-----------+-----------+-----------+-----------+-----------+-----------+\n",
      "|  \u001b[94m\u001b[93mLevel: 1\u001b[0m\u001b[0m |  \u001b[94m\u001b[91mLevel: 2\u001b[0m\u001b[0m |  \u001b[94mLevel: 3\u001b[0m |  \u001b[94mLevel: 4\u001b[0m |  \u001b[94mLevel: 5\u001b[0m |  \u001b[94mLevel: 6\u001b[0m |  \u001b[94mLevel: 7\u001b[0m |  \u001b[94mLevel: 8\u001b[0m |  \u001b[94mLevel: 9\u001b[0m | \u001b[94mLevel: 10\u001b[0m |\n",
      "+-----------+-----------+-----------+-----------+-----------+-----------+-----------+-----------+-----------+-----------+\n",
      "+-----------+-----------+-----------+-----------+-----------+-----------+-----------+-----------+-----------+-----------+\n",
      "|  \u001b[94m\u001b[93mLevel: 1\u001b[0m\u001b[0m |  \u001b[94m\u001b[91mLevel: 2\u001b[0m\u001b[0m |  \u001b[94m\u001b[93mLevel: 3\u001b[0m\u001b[0m |  \u001b[94mLevel: 4\u001b[0m |  \u001b[94mLevel: 5\u001b[0m |  \u001b[94mLevel: 6\u001b[0m |  \u001b[94mLevel: 7\u001b[0m |  \u001b[94mLevel: 8\u001b[0m |  \u001b[94mLevel: 9\u001b[0m | \u001b[94mLevel: 10\u001b[0m |\n",
      "+-----------+-----------+-----------+-----------+-----------+-----------+-----------+-----------+-----------+-----------+\n",
      "+-----------+-----------+-----------+-----------+-----------+-----------+-----------+-----------+-----------+-----------+\n",
      "|  \u001b[94m\u001b[93mLevel: 1\u001b[0m\u001b[0m |  \u001b[94m\u001b[91mLevel: 2\u001b[0m\u001b[0m |  \u001b[94m\u001b[93mLevel: 3\u001b[0m\u001b[0m |  \u001b[94m\u001b[91mLevel: 4\u001b[0m\u001b[0m |  \u001b[94mLevel: 5\u001b[0m |  \u001b[94mLevel: 6\u001b[0m |  \u001b[94mLevel: 7\u001b[0m |  \u001b[94mLevel: 8\u001b[0m |  \u001b[94mLevel: 9\u001b[0m | \u001b[94mLevel: 10\u001b[0m |\n",
      "+-----------+-----------+-----------+-----------+-----------+-----------+-----------+-----------+-----------+-----------+\n",
      "+-----------+-----------+-----------+-----------+-----------+-----------+-----------+-----------+-----------+-----------+\n",
      "|  \u001b[94m\u001b[93mLevel: 1\u001b[0m\u001b[0m |  \u001b[94m\u001b[91mLevel: 2\u001b[0m\u001b[0m |  \u001b[94m\u001b[93mLevel: 3\u001b[0m\u001b[0m |  \u001b[94m\u001b[91mLevel: 4\u001b[0m\u001b[0m |  \u001b[94m\u001b[93mLevel: 5\u001b[0m\u001b[0m |  \u001b[94mLevel: 6\u001b[0m |  \u001b[94mLevel: 7\u001b[0m |  \u001b[94mLevel: 8\u001b[0m |  \u001b[94mLevel: 9\u001b[0m | \u001b[94mLevel: 10\u001b[0m |\n",
      "+-----------+-----------+-----------+-----------+-----------+-----------+-----------+-----------+-----------+-----------+\n",
      "+-----------+-----------+-----------+-----------+-----------+-----------+-----------+-----------+-----------+-----------+\n",
      "|  \u001b[94m\u001b[93mLevel: 1\u001b[0m\u001b[0m |  \u001b[94m\u001b[91mLevel: 2\u001b[0m\u001b[0m |  \u001b[94m\u001b[93mLevel: 3\u001b[0m\u001b[0m |  \u001b[94m\u001b[91mLevel: 4\u001b[0m\u001b[0m |  \u001b[94m\u001b[93mLevel: 5\u001b[0m\u001b[0m |  \u001b[94m\u001b[91mLevel: 6\u001b[0m\u001b[0m |  \u001b[94mLevel: 7\u001b[0m |  \u001b[94mLevel: 8\u001b[0m |  \u001b[94mLevel: 9\u001b[0m | \u001b[94mLevel: 10\u001b[0m |\n",
      "+-----------+-----------+-----------+-----------+-----------+-----------+-----------+-----------+-----------+-----------+\n",
      "+-----------+-----------+-----------+-----------+-----------+-----------+-----------+-----------+-----------+-----------+\n",
      "|  \u001b[94m\u001b[93mLevel: 1\u001b[0m\u001b[0m |  \u001b[94m\u001b[91mLevel: 2\u001b[0m\u001b[0m |  \u001b[94m\u001b[93mLevel: 3\u001b[0m\u001b[0m |  \u001b[94m\u001b[91mLevel: 4\u001b[0m\u001b[0m |  \u001b[94m\u001b[93mLevel: 5\u001b[0m\u001b[0m |  \u001b[94m\u001b[91mLevel: 6\u001b[0m\u001b[0m |  \u001b[94m\u001b[91mLevel: 7\u001b[0m\u001b[0m |  \u001b[94mLevel: 8\u001b[0m |  \u001b[94mLevel: 9\u001b[0m | \u001b[94mLevel: 10\u001b[0m |\n",
      "+-----------+-----------+-----------+-----------+-----------+-----------+-----------+-----------+-----------+-----------+\n",
      "+-----------+-----------+-----------+-----------+-----------+-----------+-----------+-----------+-----------+-----------+\n",
      "|  \u001b[94m\u001b[93mLevel: 1\u001b[0m\u001b[0m |  \u001b[94m\u001b[91mLevel: 2\u001b[0m\u001b[0m |  \u001b[94m\u001b[93mLevel: 3\u001b[0m\u001b[0m |  \u001b[94m\u001b[91mLevel: 4\u001b[0m\u001b[0m |  \u001b[94m\u001b[93mLevel: 5\u001b[0m\u001b[0m |  \u001b[94m\u001b[91mLevel: 6\u001b[0m\u001b[0m |  \u001b[94m\u001b[91mLevel: 7\u001b[0m\u001b[0m |  \u001b[94m\u001b[91mLevel: 8\u001b[0m\u001b[0m |  \u001b[94mLevel: 9\u001b[0m | \u001b[94mLevel: 10\u001b[0m |\n",
      "+-----------+-----------+-----------+-----------+-----------+-----------+-----------+-----------+-----------+-----------+\n",
      "+-----------+-----------+-----------+-----------+-----------+-----------+-----------+-----------+-----------+-----------+\n",
      "|  \u001b[94m\u001b[93mLevel: 1\u001b[0m\u001b[0m |  \u001b[94m\u001b[91mLevel: 2\u001b[0m\u001b[0m |  \u001b[94m\u001b[93mLevel: 3\u001b[0m\u001b[0m |  \u001b[94m\u001b[91mLevel: 4\u001b[0m\u001b[0m |  \u001b[94m\u001b[93mLevel: 5\u001b[0m\u001b[0m |  \u001b[94m\u001b[91mLevel: 6\u001b[0m\u001b[0m |  \u001b[94m\u001b[91mLevel: 7\u001b[0m\u001b[0m |  \u001b[94m\u001b[91mLevel: 8\u001b[0m\u001b[0m |  \u001b[94m\u001b[91mLevel: 9\u001b[0m\u001b[0m | \u001b[94mLevel: 10\u001b[0m |\n",
      "+-----------+-----------+-----------+-----------+-----------+-----------+-----------+-----------+-----------+-----------+\n",
      "+-----------+-----------+-----------+-----------+-----------+-----------+-----------+-----------+-----------+-----------+\n",
      "|  \u001b[94m\u001b[93mLevel: 1\u001b[0m\u001b[0m |  \u001b[94m\u001b[91mLevel: 2\u001b[0m\u001b[0m |  \u001b[94m\u001b[93mLevel: 3\u001b[0m\u001b[0m |  \u001b[94m\u001b[91mLevel: 4\u001b[0m\u001b[0m |  \u001b[94m\u001b[93mLevel: 5\u001b[0m\u001b[0m |  \u001b[94m\u001b[91mLevel: 6\u001b[0m\u001b[0m |  \u001b[94m\u001b[91mLevel: 7\u001b[0m\u001b[0m |  \u001b[94m\u001b[91mLevel: 8\u001b[0m\u001b[0m |  \u001b[94m\u001b[91mLevel: 9\u001b[0m\u001b[0m | \u001b[94m\u001b[93mLevel: 10\u001b[0m\u001b[0m |\n",
      "+-----------+-----------+-----------+-----------+-----------+-----------+-----------+-----------+-----------+-----------+\n"
     ]
    }
   ],
   "source": [
    "import random\n",
    "a = random.randint(5,10)\n",
    "b = random.randint(6,10)\n",
    "\n",
    "\n",
    "ques_count = 10\n",
    "skip_val = 10\n",
    "pt = ptable()\n",
    "correct = []\n",
    "failed=[]\n",
    "not_attended = list(range(ques_count+1))\n",
    "\n",
    "for chances in range(ques_count):\n",
    "    a = random.randint(5,10)\n",
    "    b = random.randint(6,10)\n",
    "    if a == b: correct.append(chances+1)\n",
    "    else: failed.append(chances+1)\n",
    "    mat = pt.make_matrix(ques_count, skip_val, prefix=\"Level: \", correct=correct, failed=failed, not_attended=not_attended)\n"
   ]
  },
  {
   "cell_type": "code",
   "execution_count": 5,
   "metadata": {},
   "outputs": [],
   "source": [
    "class repl:\n",
    "    def __init__(self) -> None:\n",
    "        self.hardness = 0\n",
    "        self.subject = \"\"\n",
    "    def start(self):\n",
    "        if self.hardness == 0: int(input(\"Set your hardness (0-10): \"))\n",
    "        if self.subject == \"\": eval(input(\"Select your subject ('help' for assistance): \"))\n",
    "        if self.subject.lower() == \"help\": \n",
    "            rows = [[\"Physics\", \"Chemistry\", \"Math\", \"Biology\"], [\"Computer Science\", \"Soft Skills\", \"Aptitude\", \"English\"], [\"French\", \"Machine Learning\", \"Data Mining\", \"Statistics\"]]\n",
    "            pt = ptable(rows)\n",
    "            pt.make_row()\n",
    "\n",
    "            print(pt.horizontal_str)\n",
    "        while True:\n",
    "            str(input(\"hello\"))"
   ]
  },
  {
   "cell_type": "code",
   "execution_count": 10,
   "metadata": {},
   "outputs": [],
   "source": [
    "repl().start()"
   ]
  },
  {
   "cell_type": "code",
   "execution_count": 9,
   "metadata": {},
   "outputs": [
    {
     "data": {
      "text/plain": [
       "2"
      ]
     },
     "execution_count": 9,
     "metadata": {},
     "output_type": "execute_result"
    }
   ],
   "source": [
    "import math\n",
    "math.ceil(6/5)"
   ]
  },
  {
   "cell_type": "code",
   "execution_count": 15,
   "metadata": {},
   "outputs": [
    {
     "data": {
      "text/plain": [
       "[[1, 2, 3, 4, 5],\n",
       " [6, 7, 8, 9, 10],\n",
       " [11, 12, 13, 14, 15],\n",
       " [16, 17, 18, 19, 20],\n",
       " [21, 22, 23, 24, 25]]"
      ]
     },
     "execution_count": 15,
     "metadata": {},
     "output_type": "execute_result"
    }
   ],
   "source": [
    "levels = []\n",
    "for i in range(1,25+1,5):\n",
    "    levels.append(list(range(i,i+5)))\n",
    "levels"
   ]
  },
  {
   "cell_type": "code",
   "execution_count": 33,
   "metadata": {},
   "outputs": [
    {
     "ename": "ValueError",
     "evalue": "max() arg is an empty sequence",
     "output_type": "error",
     "traceback": [
      "\u001b[0;31m---------------------------------------------------------------------------\u001b[0m",
      "\u001b[0;31mValueError\u001b[0m                                Traceback (most recent call last)",
      "Cell \u001b[0;32mIn[33], line 2\u001b[0m\n\u001b[1;32m      1\u001b[0m pt \u001b[38;5;241m=\u001b[39m ptable()\n\u001b[0;32m----> 2\u001b[0m \u001b[43mpt\u001b[49m\u001b[38;5;241;43m.\u001b[39;49m\u001b[43mmake_matrix\u001b[49m\u001b[43m(\u001b[49m\u001b[38;5;241;43m25\u001b[39;49m\u001b[43m,\u001b[49m\u001b[43m \u001b[49m\u001b[38;5;241;43m5\u001b[39;49m\u001b[43m)\u001b[49m\n\u001b[1;32m      4\u001b[0m \u001b[38;5;28mprint\u001b[39m(pt\u001b[38;5;241m.\u001b[39mhorizontal_str)\n",
      "Cell \u001b[0;32mIn[32], line 15\u001b[0m, in \u001b[0;36mptable.make_matrix\u001b[0;34m(self, to, skip, prefix)\u001b[0m\n\u001b[1;32m     12\u001b[0m     \u001b[38;5;28;01mif\u001b[39;00m prefix \u001b[38;5;241m!=\u001b[39m \u001b[38;5;124m\"\u001b[39m\u001b[38;5;124m\"\u001b[39m:\n\u001b[1;32m     14\u001b[0m         levels\u001b[38;5;241m.\u001b[39mappend(prefix\u001b[38;5;241m+\u001b[39m\u001b[38;5;28mstr\u001b[39m(i) \u001b[38;5;28;01mfor\u001b[39;00m i \u001b[38;5;129;01min\u001b[39;00m \u001b[38;5;28mlist\u001b[39m(\u001b[38;5;28mrange\u001b[39m(i,i\u001b[38;5;241m+\u001b[39m\u001b[38;5;241m5\u001b[39m)))\n\u001b[0;32m---> 15\u001b[0m pt \u001b[38;5;241m=\u001b[39m \u001b[43mptable\u001b[49m\u001b[43m(\u001b[49m\u001b[43mlevels\u001b[49m\u001b[43m)\u001b[49m\n\u001b[1;32m     16\u001b[0m pt\u001b[38;5;241m.\u001b[39mmake_row()\n\u001b[1;32m     17\u001b[0m \u001b[38;5;28mprint\u001b[39m(pt\u001b[38;5;241m.\u001b[39mhorizontal_str)\n",
      "Cell \u001b[0;32mIn[32], line 7\u001b[0m, in \u001b[0;36mptable.__init__\u001b[0;34m(self, rows)\u001b[0m\n\u001b[1;32m      5\u001b[0m \u001b[38;5;28mself\u001b[39m\u001b[38;5;241m.\u001b[39mrows \u001b[38;5;241m=\u001b[39m [\u001b[38;5;28mlist\u001b[39m(\u001b[38;5;28mmap\u001b[39m(\u001b[38;5;28mstr\u001b[39m, r)) \u001b[38;5;28;01mfor\u001b[39;00m r \u001b[38;5;129;01min\u001b[39;00m rows]\n\u001b[1;32m      6\u001b[0m flattened_row \u001b[38;5;241m=\u001b[39m [item \u001b[38;5;28;01mfor\u001b[39;00m sublist \u001b[38;5;129;01min\u001b[39;00m \u001b[38;5;28mself\u001b[39m\u001b[38;5;241m.\u001b[39mrows \u001b[38;5;28;01mfor\u001b[39;00m item \u001b[38;5;129;01min\u001b[39;00m sublist]\n\u001b[0;32m----> 7\u001b[0m \u001b[38;5;28mself\u001b[39m\u001b[38;5;241m.\u001b[39mmax_col_width \u001b[38;5;241m=\u001b[39m \u001b[38;5;28;43mmax\u001b[39;49m\u001b[43m(\u001b[49m\u001b[38;5;28;43mmap\u001b[39;49m\u001b[43m(\u001b[49m\u001b[38;5;28;43mlen\u001b[39;49m\u001b[43m,\u001b[49m\u001b[43m \u001b[49m\u001b[43mflattened_row\u001b[49m\u001b[43m)\u001b[49m\u001b[43m)\u001b[49m\n",
      "\u001b[0;31mValueError\u001b[0m: max() arg is an empty sequence"
     ]
    }
   ],
   "source": [
    "pt = ptable()\n",
    "pt.make_matrix(25, 5)\n",
    "\n",
    "print(pt.horizontal_str)"
   ]
  },
  {
   "cell_type": "code",
   "execution_count": 24,
   "metadata": {},
   "outputs": [
    {
     "data": {
      "text/plain": [
       "'+----+----+----+----+----+\\n| 1  | 2  | 3  | 4  | 5  |\\n+----+----+----+----+----+\\n| 6  | 7  | 8  | 9  | 10 |\\n+----+----+----+----+----+\\n| 11 | 12 | 13 | 14 | 15 |\\n+----+----+----+----+----+\\n| 16 | 17 | 18 | 19 | 20 |\\n+----+----+----+----+----+\\n| 21 | 22 | 23 | 24 | 25 |\\n+----+----+----+----+----+'"
      ]
     },
     "execution_count": 24,
     "metadata": {},
     "output_type": "execute_result"
    }
   ],
   "source": [
    "pt.horizontal_str"
   ]
  }
 ],
 "metadata": {
  "kernelspec": {
   "display_name": "Python 3",
   "language": "python",
   "name": "python3"
  },
  "language_info": {
   "codemirror_mode": {
    "name": "ipython",
    "version": 3
   },
   "file_extension": ".py",
   "mimetype": "text/x-python",
   "name": "python",
   "nbconvert_exporter": "python",
   "pygments_lexer": "ipython3",
   "version": "3.11.5"
  }
 },
 "nbformat": 4,
 "nbformat_minor": 2
}
