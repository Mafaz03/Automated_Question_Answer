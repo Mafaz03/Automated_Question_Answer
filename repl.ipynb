{
 "cells": [
  {
   "cell_type": "code",
   "execution_count": 3,
   "metadata": {},
   "outputs": [
    {
     "name": "stdout",
     "output_type": "stream",
     "text": [
      "+-----------+-----------+-----------+-----------+\n",
      "|    Rome   |   Italy   |   Greece  | manhattan |\n",
      "+-----------+-----------+-----------+-----------+\n",
      "|    home   |    one    |    two    |   three   |\n",
      "+-----------+-----------+-----------+-----------+\n",
      "|   pizza   |   olives  |\n",
      "+-----------+-----------+-----------+-----------+\n"
     ]
    }
   ],
   "source": [
    "class ptable:\n",
    "    def __init__ (self, rows):\n",
    "        self.horizontal_str = \"\"\n",
    "        self.rows = rows\n",
    "        flattened_row = [item for sublist in rows for item in sublist]\n",
    "        self.max_col_width = max(map(len, flattened_row))\n",
    "\n",
    "    def make_row(self):\n",
    "        for row in self.rows:\n",
    "            if len(row) == 0: raise RuntimeError(\"Make sure row is not empty\")\n",
    "            if self.horizontal_str == \"\": self.horizontal()\n",
    "            \n",
    "            self.horizontal_str += \"\\n\"\n",
    "            for idx, ele in enumerate(row):\n",
    "                self.horizontal_str += \"|\"\n",
    "                self.horizontal_str += ele.center(self.width)\n",
    "                if idx == len(row)-1: self.horizontal_str += \"|\"\n",
    "            self.horizontal_str += \"\\n\"\n",
    "            self.horizontal()\n",
    "\n",
    "    def horizontal(self):\n",
    "        self.width = self.max_col_width+2\n",
    "        for idx in range(len(self.rows[0])):\n",
    "            self.horizontal_str += \"+\" + \"-\"*self.width\n",
    "            if idx == len(self.rows[0])-1: self.horizontal_str += \"+\"\n",
    "    \n",
    "rows = [[\"Rome\", \"Italy\", \"Greece\", \"manhattan\"], [\"home\", \"one\", \"two\", \"three\"], [\"pizza\", \"olives\"]]\n",
    "pt = ptable(rows)\n",
    "pt.make_row()\n",
    "\n",
    "print(pt.horizontal_str)\n",
    "    "
   ]
  },
  {
   "cell_type": "code",
   "execution_count": 5,
   "metadata": {},
   "outputs": [],
   "source": [
    "class repl:\n",
    "    def __init__(self) -> None:\n",
    "        self.hardness = 0\n",
    "        self.subject = \"\"\n",
    "    def start(self):\n",
    "        if self.hardness == 0: int(input(\"Set your hardness (0-10): \"))\n",
    "        if self.subject == \"\": eval(input(\"Select your subject ('help' for assistance): \"))\n",
    "        if self.subject.lower() == \"help\": \n",
    "            rows = [[\"Physics\", \"Chemistry\", \"Math\", \"Biology\"], [\"Computer Science\", \"Soft Skills\", \"Aptitude\", \"English\"], [\"French\", \"Machine Learning\", \"Data Mining\", \"Statistics\"]]\n",
    "            pt = ptable(rows)\n",
    "            pt.make_row()\n",
    "\n",
    "            print(pt.horizontal_str)\n",
    "        while True:\n",
    "            str(input(\"hello\"))"
   ]
  },
  {
   "cell_type": "code",
   "execution_count": 10,
   "metadata": {},
   "outputs": [],
   "source": [
    "repl().start()"
   ]
  }
 ],
 "metadata": {
  "kernelspec": {
   "display_name": "Python 3",
   "language": "python",
   "name": "python3"
  },
  "language_info": {
   "codemirror_mode": {
    "name": "ipython",
    "version": 3
   },
   "file_extension": ".py",
   "mimetype": "text/x-python",
   "name": "python",
   "nbconvert_exporter": "python",
   "pygments_lexer": "ipython3",
   "version": "3.11.5"
  }
 },
 "nbformat": 4,
 "nbformat_minor": 2
}
